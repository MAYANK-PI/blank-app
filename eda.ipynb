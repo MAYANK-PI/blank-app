import pandas as pd
import matplotlib.pyplot as plt
from statsmodels.tsa.stattools import adfuller

# Step 1: Load the cleaned dataset
df = pd.read_csv("nifty50_cleaned.csv", index_col="Date", parse_dates=True)
print("First 5 rows of data:")
print(df.head())

# Step 2: Plot Closing Price Trend
plt.figure(figsize=(12,6))
plt.plot(df['Close'], label="NIFTY50 Closing Price")
plt.title("NIFTY50 Closing Price Over Time")
plt.xlabel("Date")
plt.ylabel("Price")
plt.legend()
plt.show()

# Step 3: Plot Moving Averages (30 & 100 days)
df['MA30'] = df['Close'].rolling(window=30).mean()
df['MA100'] = df['Close'].rolling(window=100).mean()

plt.figure(figsize=(12,6))
plt.plot(df['Close'], label="Close Price")
plt.plot(df['MA30'], label="30-Day MA")
plt.plot(df['MA100'], label="100-Day MA")
plt.title("Moving Averages (30 & 100 Days)")
plt.legend()
plt.show()

# Step 4: Stationarity Test (ADF Test)
result = adfuller(df['Close'].dropna())
print("\n--- Augmented Dickey-Fuller Test ---")
print("ADF Statistic:", result[0])
print("p-value:", result[1])
if result[1] <= 0.05:
    print("✅ Data is stationary (good for ARIMA).")
else:
    print("⚠ Data is not stationary, differencing needed for ARIMA.")

# Step 5: Check Volatility (Daily Returns)
df['Daily Return'] = df['Close'].pct_change()

plt.figure(figsize=(12,6))
plt.plot(df['Daily Return'], label="Daily Returns", color="orange")
plt.title("NIFTY50 Daily Returns Volatility")
plt.xlabel("Date")
plt.ylabel("Daily Return")
plt.legend()
plt.show()
