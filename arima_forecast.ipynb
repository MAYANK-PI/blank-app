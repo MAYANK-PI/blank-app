import pandas as pd
import matplotlib.pyplot as plt
from statsmodels.tsa.arima.model import ARIMA
from sklearn.metrics import mean_squared_error, mean_absolute_error
import numpy as np

# Step 1: Load the cleaned data
df = pd.read_csv("nifty50_cleaned.csv", index_col="Date", parse_dates=True)

# Step 2: Train-Test Split (80% train, 20% test)
train_size = int(len(df) * 0.8)
train, test = df['Close'][:train_size], df['Close'][train_size:]

# Step 3: Fit ARIMA Model (p,d,q = 5,1,0 as a start)
model = ARIMA(train, order=(5,1,0))
model_fit = model.fit()

# Step 4: Forecast for test period
forecast = model_fit.forecast(steps=len(test))

# 5. Save forecast
forecast.to_csv("arima_forecast.csv")
print("✅ ARIMA forecast saved to arima_forecast.csv")

# Step 6: Plot Results
plt.figure(figsize=(12,6))
plt.plot(train, label="Train")
plt.plot(test, label="Test")
plt.plot(test.index, forecast, label="Forecast", color="red")
plt.title("NIFTY50 Forecast using ARIMA")
plt.xlabel("Date")
plt.ylabel("Closing Price")
plt.legend()
plt.show()

# Step 6: Evaluate Accuracy
rmse = np.sqrt(mean_squared_error(test, forecast))
mae = mean_absolute_error(test, forecast)

print("\n--- Model Evaluation ---")
print("RMSE:", rmse)
print("MAE:", mae)
